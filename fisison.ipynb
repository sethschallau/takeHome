{
 "cells": [
  {
   "cell_type": "code",
   "execution_count": 1,
   "id": "cb7a4ba1",
   "metadata": {},
   "outputs": [],
   "source": [
    "import pandas as pd\n",
    "\n",
    "location = []\n",
    "pricing = []\n",
    "features = []\n",
    "\n",
    "DF_GA_RAW = pd.read_csv(\"RealEstate_Georgia.csv\", chunksize=100)\n",
    "\n",
    "#not big enought to need to handle chunks seperately\n",
    "#so I can just concatenate them together\n",
    "DF_GA = pd.concat(DF_GA_RAW)\n",
    "\n",
    "for x, row in DF_GA.iterrows():\n",
    "    \n",
    "    #if there is a 0 number address, not valid\n",
    "    if row['streetAddress'][0] == '0':\n",
    "        continue\n",
    "        \n",
    "    #not looking for investment properties\n",
    "    if row['homeType'] == 'LOT' or row['homeType'] == 'MULTI_FAMILY':\n",
    "        continue\n",
    "        \n",
    "    ##will use living area instead of building (too many null values)\n",
    "    #living area and living area value are always* the same\n",
    "    if row['livingArea'] == 0:\n",
    "        continue\n",
    "    \n",
    "    #we can calculate price if the living area and price per square foot are not null\n",
    "    #I saw this several times when exploring the data, I'm unsure how worthwhile it is\n",
    "    price = row['price']\n",
    "    if price == 0:\n",
    "        if row['pricePerSquareFoot'] != 0:\n",
    "            price = row['livingArea'] * row['pricePerSquareFoot']\n",
    "        else:\n",
    "            continue\n",
    "     \n",
    "\n",
    "    temp_id = int(row['id'].replace('-','') + str(x))\n",
    "    location.append(\n",
    "        {\n",
    "            \"id\" : temp_id,\n",
    "            \"zipcode\" : row['zipcode'],\n",
    "            \"address\" : row['streetAddress'],\n",
    "            \"city\" : row['city'],\n",
    "            \"county\" : row['county']\n",
    "        }\n",
    "    )\n",
    "    pricing.append(\n",
    "        {\n",
    "            \"id\" : temp_id,\n",
    "            \"price\" : price,\n",
    "            \"ppsqft\" : row['pricePerSquareFoot'],\n",
    "            \"area\" : row['livingArea']\n",
    "        }\n",
    "    )\n",
    "    features.append(\n",
    "        {\n",
    "            \"id\" : temp_id,\n",
    "            \"bed\" : row['bedrooms'],\n",
    "            \"bath\" : row['bathrooms'],\n",
    "            \"levels\" : row['levels'],\n",
    "            \"style\" : row['homeType'].replace('_',' ').title(),\n",
    "            \"year\" : row['yearBuilt'],\n",
    "            \"has_parking\" : row['parking'],\n",
    "            \"has_garage\" : row['hasGarage'],\n",
    "            \"garage_spaces\" : row['garageSpaces'],\n",
    "            \"has_pool\" : row['pool'],\n",
    "        }\n",
    "    )"
   ]
  },
  {
   "cell_type": "code",
   "execution_count": 2,
   "id": "57470505",
   "metadata": {},
   "outputs": [
    {
     "name": "stdout",
     "output_type": "stream",
     "text": [
      "<sqlite3.Connection object at 0x7fb144f40990>\n",
      "[('features',), ('location',), ('pricing',)]\n"
     ]
    }
   ],
   "source": [
    "import sqlite3\n",
    "from sqlite3 import Error\n",
    "\n",
    "try:\n",
    "    conn = sqlite3.connect(\"fission.db\")\n",
    "except Error as e:\n",
    "    print(\"Error occured\")\n",
    "print(conn)\n",
    "cursor = conn.cursor()\n",
    "\n",
    "create_location = \"\"\"\n",
    "CREATE TABLE IF NOT EXISTS location (\n",
    "    id VARCHAR PRIMARY KEY NOT NULL,\n",
    "    zipcode INTEGER NOT NULL,\n",
    "    address TEXT NOT NULL,\n",
    "    city TEXT NOT NULL,\n",
    "    county TEXT NOT NULL\n",
    "    \n",
    ");\n",
    "\"\"\"\n",
    "create_pricing = \"\"\"\n",
    "CREATE TABLE IF NOT EXISTS pricing (\n",
    "    id VARCHAR PRIMARY KEY NOT NULL,\n",
    "    price INTEGER NOT NULL,\n",
    "    ppsqft INTEGER NOT NULL,\n",
    "    area INTEGER NOT NULL\n",
    ");\n",
    "\"\"\"\n",
    "create_features = \"\"\"\n",
    "CREATE TABLE IF NOT EXISTS features (\n",
    "    id VARCHAR PRIMARY KEY NOT NULL,\n",
    "    bed FLOAT NOT NULL,\n",
    "    bath FLOAT NOT NULL,\n",
    "    levels TEXT NOT NULL,\n",
    "    style TEXT NOT NULL,\n",
    "    year INTEGER NOT NULL,\n",
    "    has_parking INTEGER NOT NULL,\n",
    "    has_garage INTEGER NOT NULL,\n",
    "    garage_spaces FLOAT NOT NULL,\n",
    "    has_pool INTEGER NOT NULL\n",
    ");\n",
    "\"\"\"\n",
    "cursor.execute(create_location)\n",
    "cursor.execute(create_pricing)\n",
    "cursor.execute(create_features)\n",
    "cursor.execute(\"SELECT name FROM sqlite_master WHERE type='table' ORDER BY name;\")\n",
    "print(cursor.fetchall())"
   ]
  },
  {
   "cell_type": "code",
   "execution_count": 3,
   "id": "dab5a16f",
   "metadata": {},
   "outputs": [
    {
     "name": "stdout",
     "output_type": "stream",
     "text": [
      "[('315031107854310', 31503, '103 Hog Creek Rd', 'Waycross', 'Brantley County'), ('31503766110821', 31503, '605 Ware St', 'Waycross', 'Ware County'), ('31503931261532', 31503, '1961 Mount Pleasant Rd', 'Waycross', 'Ware County'), ('315031107855983', 31503, '39 Joyce Rd', 'Waycross', 'Brantley County'), ('315032274213305', 31503, '3475 Lark Rdg', 'Waycross', 'Ware County'), ('315031107843076', 31503, '178 Wynton Cir', 'Waycross', 'Brantley County'), ('31503766111837', 31503, '1807 Gibbs St', 'Waycross', 'Ware County'), ('31503931264638', 31503, '1200 N Augusta Ave', 'Waycross', 'Ware County'), ('31503931245129', 31503, '1801 Creswell St', 'Waycross', 'Ware County'), ('315039313349510', 31503, '1303 Carswell Ave', 'Waycross', 'Ware County')]\n"
     ]
    }
   ],
   "source": [
    "for x in location:\n",
    "    temp_insert = (\n",
    "        \"INSERT INTO location VALUES\"\n",
    "        f\"({x['id']},{x['zipcode']},\\\"{x['address']}\\\",\\\"{x['city']}\\\",\\\"{x['county']}\\\");\"\n",
    "    )\n",
    "    cursor.execute(temp_insert)\n",
    "conn.commit()\n",
    "cursor.execute(\"SELECT * FROM location LIMIT 10\")\n",
    "print(cursor.fetchall())"
   ]
  },
  {
   "cell_type": "code",
   "execution_count": 4,
   "id": "cb31851f",
   "metadata": {},
   "outputs": [
    {
     "name": "stdout",
     "output_type": "stream",
     "text": [
      "[('315031107854310', 31503, '103 Hog Creek Rd', 'Waycross', 'Brantley County'), ('31503766110821', 31503, '605 Ware St', 'Waycross', 'Ware County'), ('31503931261532', 31503, '1961 Mount Pleasant Rd', 'Waycross', 'Ware County'), ('315031107855983', 31503, '39 Joyce Rd', 'Waycross', 'Brantley County'), ('315032274213305', 31503, '3475 Lark Rdg', 'Waycross', 'Ware County'), ('315031107843076', 31503, '178 Wynton Cir', 'Waycross', 'Brantley County'), ('31503766111837', 31503, '1807 Gibbs St', 'Waycross', 'Ware County'), ('31503931264638', 31503, '1200 N Augusta Ave', 'Waycross', 'Ware County'), ('31503931245129', 31503, '1801 Creswell St', 'Waycross', 'Ware County'), ('315039313349510', 31503, '1303 Carswell Ave', 'Waycross', 'Ware County')]\n"
     ]
    }
   ],
   "source": [
    "cursor.execute(\"SELECT * FROM location LIMIT 10\")\n",
    "print(cursor.fetchall())"
   ]
  },
  {
   "cell_type": "code",
   "execution_count": 5,
   "id": "0d4dbcef",
   "metadata": {
    "scrolled": true
   },
   "outputs": [
    {
     "name": "stdout",
     "output_type": "stream",
     "text": [
      "[('315031107854310', 169900, 74, 2302), ('31503766110821', 159000, 56, 2864), ('31503931261532', 45000, 62, 728), ('315031107855983', 165000, 102, 1620), ('315032274213305', 173500, 115, 1512), ('315031107843076', 349900, 152, 2309), ('31503766111837', 99500, 72, 1383), ('31503931264638', 129500, 69, 1874), ('31503931245129', 159995, 87, 1838), ('315039313349510', 59900, 46, 1300)]\n"
     ]
    }
   ],
   "source": [
    "for x in pricing:\n",
    "    temp_insert = (\n",
    "        \"INSERT INTO pricing VALUES\"\n",
    "        f\"({x['id']},{x['price']},{x['ppsqft']},{x['area']});\"\n",
    "    )\n",
    "    cursor.execute(temp_insert)\n",
    "conn.commit()\n",
    "cursor.execute(\"SELECT * FROM pricing LIMIT 10\")\n",
    "print(cursor.fetchall())"
   ]
  },
  {
   "cell_type": "code",
   "execution_count": 6,
   "id": "90e57dc7",
   "metadata": {},
   "outputs": [
    {
     "name": "stdout",
     "output_type": "stream",
     "text": [
      "[('315031107854310', 4.0, 3.0, '0', 'Single Family', 1985, 0, 0, 0.0, 0), ('31503766110821', 4.0, 2.0, '0', 'Single Family', 1910, 0, 0, 0.0, 0), ('31503931261532', 1.0, 1.0, '0', 'Single Family', 1945, 1, 0, 0.0, 0), ('315031107855983', 2.0, 2.0, '0', 'Single Family', 1971, 0, 0, 0.0, 0), ('315032274213305', 3.0, 2.0, '0', 'Single Family', 1980, 0, 0, 0.0, 0), ('315031107843076', 3.0, 2.0, '0', 'Single Family', 1999, 1, 0, 0.0, 1), ('31503766111837', 3.0, 1.0, '0', 'Single Family', 1960, 0, 0, 0.0, 0), ('31503931264638', 3.0, 2.0, '0', 'Single Family', 1940, 0, 0, 0.0, 0), ('31503931245129', 3.0, 3.0, '0', 'Single Family', 1922, 0, 0, 0.0, 1), ('315039313349510', 3.0, 1.0, '0', 'Single Family', 1967, 0, 0, 0.0, 0)]\n"
     ]
    }
   ],
   "source": [
    "for x in features:\n",
    "    temp_insert = (\n",
    "        \"INSERT INTO features VALUES\"\n",
    "        f\"({x['id']},{x['bed']},{x['bath']},\\\"{x['levels']}\\\",\"\n",
    "        f\"\\\"{x['style']}\\\",{x['year']},{x['has_parking']},{x['has_garage']},\"\n",
    "        f\"{x['garage_spaces']},{x['has_pool']});\"\n",
    "    )\n",
    "    cursor.execute(temp_insert)\n",
    "conn.commit()\n",
    "cursor.execute(\"SELECT * FROM features LIMIT 10\")\n",
    "print(cursor.fetchall())\n",
    "\n",
    "conn.close()"
   ]
  },
  {
   "cell_type": "code",
   "execution_count": 7,
   "id": "afe9e082",
   "metadata": {},
   "outputs": [],
   "source": [
    "# temp_query = \"\"\"\n",
    "#     SELECT pricing.price, pricing.area, \n",
    "#                features.bed, features.bath,\n",
    "#                address, city, zipcode FROM location\n",
    "#         INNER JOIN pricing USING (id)\n",
    "#         INNER JOIN features USING (id)\n",
    "#         LIMIT 10\n",
    "# \"\"\"\n",
    "# cursor.execute(temp_query).fetchall()"
   ]
  },
  {
   "cell_type": "code",
   "execution_count": null,
   "id": "90728ab7",
   "metadata": {},
   "outputs": [],
   "source": []
  }
 ],
 "metadata": {
  "kernelspec": {
   "display_name": "Python 3 (ipykernel)",
   "language": "python",
   "name": "python3"
  },
  "language_info": {
   "codemirror_mode": {
    "name": "ipython",
    "version": 3
   },
   "file_extension": ".py",
   "mimetype": "text/x-python",
   "name": "python",
   "nbconvert_exporter": "python",
   "pygments_lexer": "ipython3",
   "version": "3.8.10"
  }
 },
 "nbformat": 4,
 "nbformat_minor": 5
}
